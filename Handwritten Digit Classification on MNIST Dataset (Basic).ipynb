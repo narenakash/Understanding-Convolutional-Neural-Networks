{
 "cells": [
  {
   "cell_type": "markdown",
   "metadata": {},
   "source": [
    "# Handwritten Digit Classification (Basic)\n",
    "\n",
    "Required: keras, numpy, matplotlib"
   ]
  },
  {
   "cell_type": "code",
   "execution_count": 1,
   "metadata": {},
   "outputs": [],
   "source": [
    "import warnings\n",
    "warnings.filterwarnings('ignore')\n",
    "# warnings.filterwarnings(action='once')"
   ]
  },
  {
   "cell_type": "markdown",
   "metadata": {},
   "source": [
    "### Load the MNIST dataset from Keras's inbuilt database\n"
   ]
  },
  {
   "cell_type": "code",
   "execution_count": 2,
   "metadata": {},
   "outputs": [
    {
     "name": "stderr",
     "output_type": "stream",
     "text": [
      "Using TensorFlow backend.\n"
     ]
    }
   ],
   "source": [
    "from keras.datasets import mnist\n",
    "\n",
    "(x_train, y_train), (x_test, y_test) = mnist.load_data()"
   ]
  },
  {
   "cell_type": "markdown",
   "metadata": {},
   "source": [
    "### Examine the size and image dimensions\n",
    "MNIST database of handwritten digits consists of 60,000 28x28 grayscale images of 10 digits along with a test set of 10,000 images"
   ]
  },
  {
   "cell_type": "code",
   "execution_count": 3,
   "metadata": {},
   "outputs": [
    {
     "name": "stdout",
     "output_type": "stream",
     "text": [
      "Dimension of x_train : (60000, 28, 28)\n",
      "Dimension of y_train : (60000,)\n",
      "\n",
      "Dimension of x_test  : (10000, 28, 28)\n",
      "Dimension of y_test  : (10000,)\n",
      "\n",
      "Number of samples in our training data: 60000\n",
      "Number of lables in our training data : 60000\n",
      "Number of samples in our test data    : 10000\n",
      "Number of lables in our test data     : 10000\n",
      "\n",
      "Dimension of each image in the training set: (28, 28)\n",
      "Dimension of each image in the test set    : (28, 28)\n",
      "\n",
      "Dimension of each label in the training set: ()\n",
      "Dimension of each label in the test set    : ()\n"
     ]
    }
   ],
   "source": [
    "print(\"Dimension of x_train : \" + str(x_train.shape))\n",
    "print(\"Dimension of y_train : \" + str(y_train.shape))\n",
    "print()\n",
    "print(\"Dimension of x_test  : \" + str(x_test.shape))\n",
    "print(\"Dimension of y_test  : \" + str(y_test.shape))\n",
    "print()\n",
    "print(\"Number of samples in our training data: \" + str(len(x_train)))\n",
    "print(\"Number of lables in our training data : \" + str(len(y_train)))\n",
    "print(\"Number of samples in our test data    : \" + str(len(x_test)))\n",
    "print(\"Number of lables in our test data     : \" + str(len(y_test)))\n",
    "print()\n",
    "print(\"Dimension of each image in the training set: \" + str(x_train[0].shape))\n",
    "print(\"Dimension of each image in the test set    : \" + str(x_train[0].shape))\n",
    "print()\n",
    "print(\"Dimension of each label in the training set: \" + str(y_train[0].shape))\n",
    "print(\"Dimension of each label in the test set    : \" + str(y_test[0].shape))"
   ]
  },
  {
   "cell_type": "markdown",
   "metadata": {},
   "source": [
    "### Look at some images in the dataset\n",
    "1. Using OpenCV\n",
    "2. Using Matplotlib"
   ]
  },
  {
   "cell_type": "code",
   "execution_count": 4,
   "metadata": {},
   "outputs": [],
   "source": [
    "# Using OpenCV\n",
    "import cv2\n",
    "import numpy as np\n",
    "\n",
    "for i in range(0, 6):\n",
    "    random_num = np.random.randint(0, len(x_train))\n",
    "    img = x_train[random_num]\n",
    "    window_name = 'Random Sample #' + str(i + 1)\n",
    "    cv2.imshow(window_name, img)\n",
    "    cv2.waitKey(0)\n",
    "    \n",
    "cv2.destroyAllWindows()"
   ]
  },
  {
   "cell_type": "code",
   "execution_count": 13,
   "metadata": {},
   "outputs": [
    {
     "data": {
      "image/png": "[encoded data removed]",
      "text/plain": [
       "<Figure size 432x288 with 6 Axes>"
      ]
     },
     "metadata": {
      "needs_background": "light"
     },
     "output_type": "display_data"
    }
   ],
   "source": [
    "# Using Matplotlib\n",
    "import matplotlib.pyplot as plt\n",
    "\n",
    "for i in range(1, 7):\n",
    "    # Subplot's arguments are nrows, ncols,, index\n",
    "    plt.subplot('33' + str(i))\n",
    "    random_num = np.random.randint(0, len(x_train))\n",
    "    plt.imshow(x_train[random_num], cmap = plt.get_cmap('gray'))\n",
    "    \n",
    "plt.show()"
   ]
  },
  {
   "cell_type": "markdown",
   "metadata": {},
   "source": [
    "### Prepare the dataset for training"
   ]
  },
  {
   "cell_type": "code",
   "execution_count": 20,
   "metadata": {},
   "outputs": [
    {
     "name": "stdout",
     "output_type": "stream",
     "text": [
      "Dimension of x_train:  (60000, 28, 28, 1)\n",
      "Dimension of x_test :  (10000, 28, 28, 1)\n",
      "\n",
      "Number of training samples:  60000\n",
      "Number of test samples    :  10000\n"
     ]
    }
   ],
   "source": [
    "img_rows = x_train[0].shape[0]\n",
    "img_cols = x_train[0].shape[1]\n",
    "\n",
    "# Keras requires the fourth dimension as the colour depth, 3 for RGB\n",
    "x_train = x_train.reshape(x_train.shape[0], img_rows, img_cols, 1)\n",
    "x_test = x_test.reshape(x_test.shape[0], img_rows, img_cols, 1)\n",
    "\n",
    "# The shape of a single image\n",
    "input_shape = (img_rows, img_cols, 1)\n",
    "\n",
    "# Convert the image type from unit8 to float32\n",
    "x_train = x_train.astype('float32')\n",
    "x_test = x_test.astype('float32')\n",
    "\n",
    "# Normalize the dataset, the range is reduced to (0, 1) from (0, 255)\n",
    "x_train /= 255\n",
    "x_test /= 255\n",
    "\n",
    "print(\"Dimension of x_train: \", x_train.shape)\n",
    "print(\"Dimension of x_test : \", x_test.shape)\n",
    "\n",
    "print()\n",
    "print(\"Number of training samples: \", x_train.shape[0])\n",
    "print(\"Number of test samples    : \", x_test.shape[0])"
   ]
  },
  {
   "cell_type": "markdown",
   "metadata": {},
   "source": [
    "### One Hot Encoding of Labels"
   ]
  },
  {
   "cell_type": "code",
   "execution_count": 26,
   "metadata": {},
   "outputs": [
    {
     "name": "stdout",
     "output_type": "stream",
     "text": [
      "Number of classes: 10\n"
     ]
    }
   ],
   "source": [
    "from keras.utils import np_utils\n",
    "\n",
    "y_train = np_utils.to_categorical(y_train)\n",
    "y_test = np_utils.to_categorical(y_test)\n",
    "\n",
    "print('Number of classes: ' + str(y_test.shape[1]))\n",
    "\n",
    "num_classes = y_test.shape[1]\n",
    "num_pixels = x_train.shape[1] * x_train.shape[2]"
   ]
  },
  {
   "cell_type": "markdown",
   "metadata": {},
   "source": [
    "### Create our Model"
   ]
  },
  {
   "cell_type": "code",
   "execution_count": null,
   "metadata": {},
   "outputs": [],
   "source": [
    "import keras\n",
    "from keras.dataswets import mnist\n",
    "from keras.models import Sequential\n",
    "from keras.layers import Dense, Dropout, Flatten\n",
    "from keras.layers import Conv2D, Maxpooling2D\n",
    "from keras import backend as K\n",
    "from keras.optimizers import SGD"
   ]
  }
 ],
 "metadata": {
  "kernelspec": {
   "display_name": "Python 3",
   "language": "python",
   "name": "python3"
  },
  "language_info": {
   "codemirror_mode": {
    "name": "ipython",
    "version": 3
   },
   "file_extension": ".py",
   "mimetype": "text/x-python",
   "name": "python",
   "nbconvert_exporter": "python",
   "pygments_lexer": "ipython3",
   "version": "3.6.9"
  }
 },
 "nbformat": 4,
 "nbformat_minor": 4
}
